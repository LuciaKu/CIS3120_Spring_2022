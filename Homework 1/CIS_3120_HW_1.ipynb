{
  "nbformat": 4,
  "nbformat_minor": 0,
  "metadata": {
    "colab": {
      "name": "CIS 3120 - HW 1.ipynb",
      "provenance": [],
      "collapsed_sections": []
    },
    "kernelspec": {
      "name": "python3",
      "display_name": "Python 3"
    },
    "language_info": {
      "name": "python"
    }
  },
  "cells": [
    {
      "cell_type": "code",
      "source": [
        "from bs4 import BeautifulSoup #importing beautiful soup library\n",
        "import requests #importing requests library\n",
        "import statistics #importing statistics library"
      ],
      "metadata": {
        "id": "vEEmD7TSVJ0E"
      },
      "execution_count": 14,
      "outputs": []
    },
    {
      "cell_type": "code",
      "source": [
        "sports_teams = {'mens volleyball team' : 'https://athletics.baruch.cuny.edu/sports/mens-volleyball/roster',\n",
        "                'mens swim team': 'https://athletics.baruch.cuny.edu/sports/mens-swimming-and-diving/roster',\n",
        "                'womens volleyball team': 'https://athletics.baruch.cuny.edu/sports/womens-volleyball/roster',\n",
        "                'womens swim team': 'https://athletics.baruch.cuny.edu/sports/womens-swimming-and-diving/roster'\n",
        "                }\n",
        "                #creating a dictionary with urls of sports teams"
      ],
      "metadata": {
        "id": "DYXRqeGIX5UC"
      },
      "execution_count": 15,
      "outputs": []
    },
    {
      "cell_type": "code",
      "source": [
        "def scrape(sport_type,url): #scraping the websites\n",
        "  page = requests.get(url) #making request to server to get url key from dictionary\n",
        "  soup = BeautifulSoup(page.content,'html.parser') #importing raw html into beautiful soup\n",
        "  all_relevant_tags = soup.find_all('td', class_ = 'height') #collection of all of the td tags with a class of height into a single list\n",
        "  average=[] #creating an empty list for average heights\n",
        "  for height in all_relevant_tags: #creating for loop \n",
        "    h=height.get_text().split('-') #h is getting height, split is converting it to a list that split the feet from the inches using the dash symbol \n",
        "    average.append(int(h[0])*12+int(h[1])) #converted string of feet to number and multiplied by 12 and converted string of inches to number and added the two together\n",
        "  print('The average height for',sport_type, 'is:',statistics.mean(average),'inches')  #printing the results for average height"
      ],
      "metadata": {
        "id": "-9zbl-tCccM4"
      },
      "execution_count": 16,
      "outputs": []
    },
    {
      "cell_type": "code",
      "source": [
        "for sports, url in sports_teams.items(): #for loop: items gets all pairs in dictionary, sports is key, url is value\n",
        "  scrape(sports,url) #calls scrape function"
      ],
      "metadata": {
        "colab": {
          "base_uri": "https://localhost:8080/"
        },
        "id": "nOmBmyTvbqzo",
        "outputId": "23d1f669-47fd-4c3e-9174-c9f3212da493"
      },
      "execution_count": 17,
      "outputs": [
        {
          "output_type": "stream",
          "name": "stdout",
          "text": [
            "The average height for mens volleyball team is: 73.26666666666667 inches\n",
            "The average height for mens swim team is: 71.52941176470588 inches\n",
            "The average height for womens volleyball team is: 65.33333333333333 inches\n",
            "The average height for womens swim team is: 64 inches\n"
          ]
        }
      ]
    }
  ]
}