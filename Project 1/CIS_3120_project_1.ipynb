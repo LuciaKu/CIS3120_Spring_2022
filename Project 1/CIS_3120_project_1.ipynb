{
  "cells": [
    {
      "cell_type": "code",
      "execution_count": null,
      "metadata": {
        "id": "LiLUZ6VRDw3R"
      },
      "outputs": [],
      "source": [
        "#importing libraries\n",
        "from bs4 import BeautifulSoup\n",
        "import requests\n",
        "import pandas as pd \n",
        "from google.colab import files"
      ]
    },
    {
      "cell_type": "code",
      "execution_count": null,
      "metadata": {
        "id": "ioVUXKgbEGjV"
      },
      "outputs": [],
      "source": [
        "#creating a dictionary to store colleges for men's volleyball\n",
        "mens_volleyball = {'City College of New York mens volleyball' : 'https://ccnyathletics.com/sports/mens-volleyball/roster',\n",
        "'Lehman College mens volleyball' : 'https://lehmanathletics.com/sports/mens-volleyball/roster',\n",
        "'Brooklyn College mens volleyball' : 'https://www.brooklyncollegeathletics.com/sports/mens-volleyball/roster',\n",
        "'John Jay College mens volleyball' : 'https://johnjayathletics.com/sports/mens-volleyball/roster',\n",
        "'Baruch College mens volleyball' : 'https://athletics.baruch.cuny.edu/sports/mens-volleyball/roster',\n",
        "'Medgar Evans College mens volleyball' : 'https://mecathletics.com/sports/mens-volleyball/roster',\n",
        "'Hunter College mens volleyball' : 'https://www.huntercollegeathletics.com/sports/mens-volleyball/roster',\n",
        "'York College mens volleyball' : 'https://yorkathletics.com/sports/mens-volleyball/roster',\n",
        "'Ball State mens volleyball' : 'https://ballstatesports.com/sports/mens-volleyball/roster',\n",
        "'Lewis University mens volleyball' : 'https://lewisflyers.com/sports/mens-volleyball/roster'}\n",
        "\n",
        "#creating a dictionary to store colleges for women's volleyball\n",
        "womens_volleyball = {'BMCC womens volleyball' : 'https://bmccathletics.com/sports/womens-volleyball/roster',\n",
        "'York College womens volleyball' : 'https://yorkathletics.com/sports/womens-volleyball/roster',\n",
        "'Hostos CC womens volleyball' : 'https://hostosathletics.com/sports/womens-volleyball/roster',\n",
        "'Bronx CC womens volleyball' : 'https://bronxbroncos.com/sports/womens-volleyball/roster/2021',\n",
        "'Queens College womens volleyball' : 'https://queensknights.com/sports/womens-volleyball/roster',\n",
        "'Augusta College womens volleyball' : 'https://augustajags.com/sports/wvball/roster',\n",
        "'Flagler College womens volleyball' : 'https://flaglerathletics.com/sports/womens-volleyball/roster',\n",
        "'Young Harris College womens volleyball' : 'https://yhcathletics.com/sports/womens-volleyball/roster',\n",
        "'USC Aiken womens volleyball' : 'https://pacersports.com/sports/womens-volleyball/roster',\n",
        "'Penn State - Lock Haven womens volleyball' : 'https://www.golhu.com/sports/womens-volleyball/roster'}\n",
        "\n",
        "#creating a dictionary to store colleges for men's swimming\n",
        "mens_swimming = {'College of Staten Island mens swimming' : 'https://csidolphins.com/sports/mens-swimming-and-diving/roster',\n",
        "'York College mens swimming' : 'https://yorkathletics.com/sports/mens-swimming-and-diving/roster',\n",
        "'Baruch College mens swimming' : 'https://athletics.baruch.cuny.edu/sports/mens-swimming-and-diving/roster',\n",
        "'Brooklyn College mens swimming' : 'https://www.brooklyncollegeathletics.com/sports/mens-swimming-and-diving/roster',\n",
        "'Lindenwood University mens swimming' : 'https://lindenwoodlions.com/sports/mens-swimming-and-diving/roster',\n",
        "'Mckendree University mens swimming' : 'https://mckbearcats.com/sports/mens-swimming-and-diving/roster',\n",
        "'Ramapo College mens swimming' : 'https://ramapoathletics.com/sports/mens-swimming-and-diving/roster',\n",
        "'SUNY Oneota mens swimming' : 'https://oneontaathletics.com/sports/mens-swimming-and-diving/roster',\n",
        "'SUNY Binghampton mens swimming' : 'https://bubearcats.com/sports/mens-swimming-and-diving/roster/2021-22',\n",
        "'Albright College mens swimming' : 'https://albrightathletics.com/sports/mens-swimming-and-diving/roster'}\n",
        "\n",
        "#creating a dictionary to store colleges for women's swimming\n",
        "womens_swimming = {'College of Staten Island womens swimming' : 'https://csidolphins.com/sports/womens-swimming-and-diving/roster',\n",
        "'Queens College womens swimming' : 'https://queensknights.com/sports/womens-swimming-and-diving/roster',\n",
        "'York College womens swimming' : 'https://yorkathletics.com/sports/womens-swimming-and-diving/roster',\n",
        "'Baruch College womens swimming' : 'https://athletics.baruch.cuny.edu/sports/womens-swimming-and-diving/roster/2021-22?path=wswim',\n",
        "'Brooklyn College womens swimming' : 'https://www.brooklyncollegeathletics.com/sports/womens-swimming-and-diving/roster',\n",
        "'Lindenwood University womens swimming' : 'https://lindenwoodlions.com/sports/womens-swimming-and-diving/roster',\n",
        "'Mckendree University womens swimming' : 'https://mckbearcats.com/sports/womens-swimming-and-diving/roster',\n",
        "'Ramapo College womens swimming' : 'https://ramapoathletics.com/sports/womens-swimming-and-diving/roster',\n",
        "'Kean University womens swimming' : 'https://keanathletics.com/sports/womens-swimming-and-diving/roster',\n",
        "'SUNY Oneota womens swimming' : 'https://oneontaathletics.com/sports/womens-swimming-and-diving/roster'}\n",
        "\n"
      ]
    },
    {
      "cell_type": "code",
      "source": [
        "#creating a list to store the dictionaries in\n",
        "sportsteam = [{'mens_volleyball':mens_volleyball}, {'womens_volleyball':womens_volleyball}, {'mens_swimming':mens_swimming}, {'womens_swimming':womens_swimming}]"
      ],
      "metadata": {
        "id": "JFI9nRF1pccK"
      },
      "execution_count": null,
      "outputs": []
    },
    {
      "cell_type": "code",
      "execution_count": null,
      "metadata": {
        "id": "6V4oCnArJzaG"
      },
      "outputs": [],
      "source": [
        "def scrape(volleyswim,volleyswim_file): # scraping the websites\n",
        "  height = [] # created an empty list named height to later collect heights for assignment\n",
        "  name = [] # created an empty list named name to later collect names for assignment\n",
        "  for team, url in volleyswim.items(): # for looping through each URL \n",
        "    page = requests.get(url) #requesting info from server\n",
        "    soup = BeautifulSoup(page.content,'html.parser') #parsing through the info\n",
        "    all_relevant_name = soup.find_all('td', class_='sidearm-table-player-name') # obtaining player names from specified td class \n",
        "    all_relevant_height = soup.find_all('td', class_='height') # obtaining height of players from specified td class\n",
        "    for h in all_relevant_height: # for looping in the all_relevant_height dataset \n",
        "      if h.get_text() == '-': #adding the \"-\" to empty heights in the height list\n",
        "        height.append('-')\n",
        "      else:\n",
        "        x=h.get_text().split('-') # variable x is defined to hold height value, h will get text which gets split. Split will convert it to a list that split the feet \n",
        "                                # from the inches using the dash symbol\n",
        "        height.append(int(x[0])*12+int(x[1])) #appending the x variable value into the height list created earlier mathematics applied to make it inches for legibility\n",
        "\n",
        "    total = 0 #setting the total to 0\n",
        "    for a in range(0, len(height)): #for looping to add any height without a \"-\" to the total\n",
        "          if height[a] != '-': \n",
        "            total += height[a] \n",
        "    height_average = total / len (height) #finding average height of players by dividing total with the amount of heights\n",
        "    for x in range(0, len(height)): #for looping to set the empty heights, \"-\", equal to the average height\n",
        "          if height[x] == '-':\n",
        "            height[x] = height_average\n",
        "\n",
        "    for n in all_relevant_name: # for looping in the all_relevant_name dataset to get rid of leading and trailing spaces and adding it to the name list\n",
        "      name.append(n.get_text().strip())\n",
        "  height_average = total / len (height) #finding total average height of all players by dividing total with the amount of heights\n",
        "  print('height average:',height_average) #printing average heights\n",
        "  filename = volleyswim_file + '.csv' #setting the file name \n",
        "  df = pd.DataFrame() #creating a dataframe \n",
        "  df['name'] = name #adding name to dataframe\n",
        "  df['heights'] = height #adding height to dataframe\n",
        "  print(df) #printing dataframe\n",
        "  tallest=(df.sort_values(by='heights',ascending=False)) #sorting the players by height\n",
        "  print('tallest 5:\\n',tallest.head(5),'\\n shortest 5:\\n', tallest.tail(5).sort_values('heights',ascending=True)) #printing the 5 tallest and 5 shortest players of each team\n",
        "  df.to_csv(filename, index=False) #converting the dataframe into a csv file\n",
        "  files.download(filename) #downloading the csv files\n",
        "  return height_average #returning the average heights of players"
      ]
    },
    {
      "cell_type": "code",
      "source": [
        "averages=[] #creating an empty list for averages\n",
        "names=[] #creating an empty list for names\n",
        "for team in sportsteam: #for looping the list of dictionaries\n",
        " for name, dictionary in team.items(): #inner for looping for each dictionary\n",
        "   print('=====================================',name,'=====================================') #formatting by sports name\n",
        "   averages.append(scrape(dictionary, name)) #adding the average of each dictionary to averages list\n",
        "   names.append(name) #adding the name of each dictionary to names list\n",
        "print(averages) #print the averages list\n",
        "average_player_height = pd.DataFrame(\n",
        "    {'sport': names,'average':averages}\n",
        ") #creating a dataframe to display the names and averages of each team\n"
      ],
      "metadata": {
        "colab": {
          "base_uri": "https://localhost:8080/"
        },
        "id": "dlSFs_Lj5aAQ",
        "outputId": "3a4573e0-783a-4ab0-ce6a-71d5cc92ff58"
      },
      "execution_count": null,
      "outputs": [
        {
          "output_type": "stream",
          "name": "stdout",
          "text": [
            "===================================== mens_volleyball =====================================\n",
            "height average: 73.03787878787878\n",
            "                     name  heights\n",
            "0           Jeffrey Celis       69\n",
            "1              Reng  Chen       69\n",
            "2    Edwin Fierros Gaytan       68\n",
            "3      Fred  De La Cuadra       70\n",
            "4            Utpal  Chand       69\n",
            "..                    ...      ...\n",
            "127       Carter Burzlaff       79\n",
            "128     Chase Celichowski       78\n",
            "129            John Davis       77\n",
            "130      Christian Prayer       76\n",
            "131        Carlos Jimenez       73\n",
            "\n",
            "[132 rows x 2 columns]\n",
            "tallest 5:\n",
            "                name  heights\n",
            "117   Tyler Mitchem       83\n",
            "111   Tyler Simpson       82\n",
            "100  Mark Wickstrom       81\n",
            "116     Isaac Benka       81\n",
            "125    Michael Sack       81 \n",
            " shortest 5:\n",
            "              name  heights\n",
            "11     Juan Lemus       63\n",
            "35  Bryce Glasper       64\n",
            "67      Bryan Eng       66\n",
            "69    Andrew Reza       66\n",
            "23   Darren Roach       66\n",
            "===================================== womens_volleyball =====================================\n",
            "height average: 67.41353383458646\n",
            "                       name  heights\n",
            "0            Jaylina Kraker       59\n",
            "1            Kaylin  Nieves       62\n",
            "2              Alyssa Duran       65\n",
            "3    Vielka De Jesus Segura       67\n",
            "4        Nolverys Fernandez       65\n",
            "..                      ...      ...\n",
            "128          Hannah Lingold       70\n",
            "129          Meghan Tennant       75\n",
            "130    Samantha Arens-Ennis       65\n",
            "131    Krystal Heffelfinger       71\n",
            "132            Jaiden Yocca       69\n",
            "\n",
            "[133 rows x 2 columns]\n",
            "tallest 5:\n",
            "                name  heights\n",
            "94   Sophie Bearden       75\n",
            "129  Meghan Tennant       75\n",
            "126    Alyssa Daley       75\n",
            "75       Molly Boyd       75\n",
            "71     Logan Garcia       74 \n",
            " shortest 5:\n",
            "                name  heights\n",
            "32  Kenndy  Vasquez       59\n",
            "20   Yeralkis Gomez       59\n",
            "0    Jaylina Kraker       59\n",
            "14   Kiara Gonzalez       60\n",
            "23  Ariana  Serrano       60\n",
            "===================================== mens_swimming =====================================\n",
            "height average: 71.53381809787626\n",
            "                     name    heights\n",
            "0           Daniel Angulo  63.916667\n",
            "1    Anthony Attenborough  70.000000\n",
            "2        Charles Cusumano  64.000000\n",
            "3           Eslam Hussein  70.000000\n",
            "4            Chris Ivanov  75.000000\n",
            "..                    ...        ...\n",
            "166        Kieran Hassard  72.000000\n",
            "167         Anthony Laite  69.000000\n",
            "168        Drew MacDonald  72.000000\n",
            "169           Kyle Morken  73.000000\n",
            "170      Peter Vanderwerf  75.000000\n",
            "\n",
            "[171 rows x 2 columns]\n",
            "tallest 5:\n",
            "                name  heights\n",
            "113  Josh Templeton     78.0\n",
            "79    Colton Grimes     78.0\n",
            "42      Jerry Brown     77.0\n",
            "148      Eric Kroon     77.0\n",
            "54      Zach Linder     77.0 \n",
            " shortest 5:\n",
            "                  name    heights\n",
            "0       Daniel Angulo  63.916667\n",
            "35            Eric Li  64.000000\n",
            "2    Charles Cusumano  64.000000\n",
            "36   Joseph Scarpetta  65.000000\n",
            "103    Samuel De Leon  65.000000\n",
            "===================================== womens_swimming =====================================\n",
            "height average: 65.10301039956212\n",
            "                  name    heights\n",
            "0    Kathleen Bridgman  65.000000\n",
            "1          Angye Galan  43.777778\n",
            "2      Jessica Johnson  68.000000\n",
            "3     Macy Jones-Busch  43.777778\n",
            "4       Bridget Mulvey  67.000000\n",
            "..                 ...        ...\n",
            "140    Paige Splendido  65.000000\n",
            "141    Emma Stephenson  67.000000\n",
            "142     Callie Stinson  64.000000\n",
            "143     Jessie Triller  62.000000\n",
            "144       Emma Trumino  65.000000\n",
            "\n",
            "[145 rows x 2 columns]\n",
            "tallest 5:\n",
            "                   name  heights\n",
            "45  Kamilla  Shulanova     72.0\n",
            "98           Haley Rey     71.0\n",
            "94   Presley Heitzmann     71.0\n",
            "55      Isabella Gable     71.0\n",
            "86    Claire Brouillet     71.0 \n",
            " shortest 5:\n",
            "                  name    heights\n",
            "3    Macy Jones-Busch  43.777778\n",
            "1         Angye Galan  43.777778\n",
            "7   Kolleen Rodriguez  43.777778\n",
            "12     Claudia Cimino  55.301587\n",
            "9   Rupakshi Aggarwal  55.301587\n",
            "[73.03787878787878, 67.41353383458646, 71.53381809787626, 65.10301039956212]\n"
          ]
        }
      ]
    },
    {
      "cell_type": "code",
      "source": [
        "average_player_height.plot.bar(x ='sport', y = 'average', rot= 10, title ='Average Heights of Athletes') #creating a bar graph for the averages"
      ],
      "metadata": {
        "colab": {
          "base_uri": "https://localhost:8080/",
          "height": 331
        },
        "id": "oBY_j34haa-M",
        "outputId": "f749ab11-de53-4f2c-e929-3b1fd31848f6"
      },
      "execution_count": null,
      "outputs": [
        {
          "output_type": "execute_result",
          "data": {
            "text/plain": [
              "<matplotlib.axes._subplots.AxesSubplot at 0x7fc4da4c4450>"
            ]
          },
          "metadata": {},
          "execution_count": 14
        },
        {
          "output_type": "display_data",
          "data": {
            "text/plain": [
              "<Figure size 432x288 with 1 Axes>"
            ],
            "image/png": "[encoded data removed]"
          },
          "metadata": {
            "needs_background": "light"
          }
        }
      ]
    }
  ],
  "metadata": {
    "colab": {
      "name": "CIS 3120 - project 1.ipynb",
      "provenance": [],
      "collapsed_sections": []
    },
    "kernelspec": {
      "display_name": "Python 3",
      "name": "python3"
    },
    "language_info": {
      "name": "python"
    }
  },
  "nbformat": 4,
  "nbformat_minor": 0
}