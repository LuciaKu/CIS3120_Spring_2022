{
  "nbformat": 4,
  "nbformat_minor": 0,
  "metadata": {
    "colab": {
      "name": "cis 3120 - hw 2 - web scraping.ipynb",
      "provenance": []
    },
    "kernelspec": {
      "name": "python3",
      "display_name": "Python 3"
    },
    "language_info": {
      "name": "python"
    }
  },
  "cells": [
    {
      "cell_type": "code",
      "source": [
        "#importing libraries\n",
        "from bs4 import BeautifulSoup\n",
        "import requests\n",
        "import pandas as pd\n",
        "from google.colab import files"
      ],
      "metadata": {
        "id": "j4HZQXtZEdxr"
      },
      "execution_count": 133,
      "outputs": []
    },
    {
      "cell_type": "code",
      "source": [
        "#store the URL\n",
        "covid = 'https://en.wikipedia.org/wiki/COVID-19_pandemic_by_country_and_territory'"
      ],
      "metadata": {
        "id": "GVQxFi2_EshH"
      },
      "execution_count": null,
      "outputs": []
    },
    {
      "cell_type": "code",
      "source": [
        "def scrape (url): #scraping the url\n",
        "  location=[] #empty list for countries\n",
        "  july=[] #empty list for july numbers\n",
        "  aug=[] #empty list for august numbers\n",
        "  sept=[] #empty list for september numbers\n",
        "  oct=[] #empty list for october numbers\n",
        "  nov=[] #empty list for november numbers\n",
        "  dec=[] #empty list for december numbers\n",
        "\n",
        "  page=requests.get(url) #requesting info from server\n",
        "  soup=BeautifulSoup(page.content,'html.parser') #parsing through the info\n",
        "\n",
        "  table=soup.find_all('table')[14]  #find the table \"2021. 2nd half\"\n",
        "\n",
        "  for tbody in table.findAll('tbody'): #go through the content of the table\n",
        "    for tr in tbody.findAll('tr'): #go into each row to get data\n",
        "      row = tr.get_text().split() #save all the data in an array\n",
        "      if row[0] != 'Location' and row[0] != 'World': #add all data to their respective arrays, ignoring the first two rows\n",
        "\n",
        "        for r in range(len(row)): #for looping to remove the commas from the numbers in the dataset\n",
        "          if ',' in row[r]:\n",
        "            row[r]=row[r].replace(',','')\n",
        "          \n",
        "        if len(row) > 7: #if country name has space(s)\n",
        "          row_length = len(row)\n",
        "          name = ' '.join(row[-7::-1][::-1]) #get the full name\n",
        "          location.append(name) #add name to the empty list \"location\"\n",
        "\n",
        "          #add the months to empty lists and convert them to floats\n",
        "          july.append(float(row[row_length-6]))\n",
        "          aug.append(float(row[row_length-5]))\n",
        "          sept.append(float(row[row_length-4]))\n",
        "          oct.append(float(row[row_length-3]))\n",
        "          nov.append(float(row[row_length-2]))\n",
        "          dec.append(float(row[row_length-1]))\n",
        "        else:\n",
        "          location.append(row[0])\n",
        "          july.append(float(row[1]))\n",
        "          aug.append(float(row[2]))\n",
        "          sept.append(float(row[3]))\n",
        "          oct.append(float(row[4]))\n",
        "          nov.append(float(row[5]))\n",
        "          dec.append(float(row[6]))\n",
        "      \n",
        "  filename = 'covid19.csv' #naming the csv file\n",
        "  corona_df=pd.DataFrame() #creating an empty dataframe\n",
        "  corona_df['Country']=location #adding location list to dataframe\n",
        "  corona_df['July']=july #adding july list to dataframe\n",
        "  corona_df['August']=aug #adding august list to dataframe\n",
        "  corona_df['September']=sept #adding september list to data frame\n",
        "  corona_df['October']=oct #adding october list to dataframe\n",
        "  corona_df['November']=nov #adding november list to dataframe\n",
        "  corona_df['December']=dec #adding december list to dataframe\n",
        "  print(corona_df) #printing the dataframe\n",
        "  corona_df.to_csv(filename,index=False) #converting the dataframe to a csv file\n",
        "  files.download(filename) #downloading the csv file\n",
        "\n",
        "  #count for november\n",
        "  nov_count=corona_df['November'].count() \n",
        "  print('\\ncount for November:',nov_count)\n",
        "\n",
        "  #count for december\n",
        "  dec_count=corona_df['December'].count()\n",
        "  print('count for December:',dec_count)\n",
        "\n",
        "  #mean for november\n",
        "  nov_mean=corona_df['November'].mean()\n",
        "  print('mean for November:',nov_mean)\n",
        "\n",
        "  #mean for december\n",
        "  dec_mean=corona_df['December'].mean()\n",
        "  print('mean for December:',dec_mean)\n",
        "\n",
        "  #standard deviation for november\n",
        "  nov_standev=corona_df['November'].std()\n",
        "  print('standard deviation for November:',nov_standev)\n",
        "\n",
        "  #standard deviation for december\n",
        "  dec_standev=corona_df['December'].std()\n",
        "  print('standard deviation for December:',dec_standev)\n",
        "\n",
        "  #minimum for november\n",
        "  nov_min=corona_df['November'].min()\n",
        "  print('minimum for November:',nov_min)\n",
        "\n",
        "  #minimum for december\n",
        "  dec_min=corona_df['December'].min()\n",
        "  print('minimum for December:',dec_min)\n",
        "\n",
        "  #25th percentile for november\n",
        "  nov_25=corona_df['November'].quantile(.25)\n",
        "  print('25th percentile for November:',nov_25)\n",
        "\n",
        "  #25th percentile for december\n",
        "  dec_25=corona_df['December'].quantile(.25)\n",
        "  print('25th percentile for December:',dec_25)\n",
        "\n",
        "  #50th percentile for november\n",
        "  nov_50=corona_df['November'].quantile(.50)\n",
        "  print('50th percentile for November:',nov_50)\n",
        "\n",
        "  #50th percentile for december\n",
        "  dec_50=corona_df['December'].quantile(.50)\n",
        "  print('50th percentile for December:',dec_50)\n",
        "\n",
        "  #75th percentile for november\n",
        "  nov_75=corona_df['November'].quantile(.75)\n",
        "  print('75th percentile for November:',nov_75)\n",
        "\n",
        "  #75th percentile for december\n",
        "  dec_75=corona_df['December'].quantile(.75)\n",
        "  print('75th percentile for December:',dec_75)\n",
        "\n",
        "  #maximum for november\n",
        "  nov_max=corona_df['November'].max()\n",
        "  print('maximum for November:',nov_max)\n",
        "\n",
        "  #maximum for december\n",
        "  dec_max=corona_df['December'].max()\n",
        "  print('maximum for December:',dec_max)"
      ],
      "metadata": {
        "id": "4POeWNxMLGLa"
      },
      "execution_count": 138,
      "outputs": []
    },
    {
      "cell_type": "code",
      "source": [
        "corona = scrape(covid) #scraping the url using the previous block of code"
      ],
      "metadata": {
        "colab": {
          "base_uri": "https://localhost:8080/",
          "height": 816
        },
        "id": "YrarHCqVyM_M",
        "outputId": "565a296f-35ad-47c9-8454-98af714cdd6c"
      },
      "execution_count": 139,
      "outputs": [
        {
          "output_type": "stream",
          "name": "stdout",
          "text": [
            "           Country      July    August  September   October  November  \\\n",
            "0    United States  600853.0  610606.0   642770.0  697430.0  743217.0   \n",
            "1           Brazil  515985.0  555460.0   579574.0  596122.0  607694.0   \n",
            "2            India  399459.0  424351.0   439020.0  448339.0  458437.0   \n",
            "3           Mexico  238055.0  245959.0   267253.0  283091.0  290717.0   \n",
            "4           Russia  135886.0  159352.0   184014.0  208142.0  239693.0   \n",
            "..             ...       ...       ...        ...       ...       ...   \n",
            "232        Tokelau       0.0       0.0        0.0       0.0       0.0   \n",
            "233          Tonga       0.0       0.0        0.0       0.0       0.0   \n",
            "234   Turkmenistan       0.0       0.0        0.0       0.0       0.0   \n",
            "235         Tuvalu       0.0       0.0        0.0       0.0       0.0   \n",
            "236        Vanuatu       0.0       0.0        0.0       0.0       0.0   \n",
            "\n",
            "     December  \n",
            "0    774868.0  \n",
            "1    614376.0  \n",
            "2    469247.0  \n",
            "3    293950.0  \n",
            "4    276419.0  \n",
            "..        ...  \n",
            "232       0.0  \n",
            "233       0.0  \n",
            "234       0.0  \n",
            "235       0.0  \n",
            "236       0.0  \n",
            "\n",
            "[237 rows x 7 columns]\n"
          ]
        },
        {
          "output_type": "display_data",
          "data": {
            "text/plain": [
              "<IPython.core.display.Javascript object>"
            ],
            "application/javascript": [
              "\n",
              "    async function download(id, filename, size) {\n",
              "      if (!google.colab.kernel.accessAllowed) {\n",
              "        return;\n",
              "      }\n",
              "      const div = document.createElement('div');\n",
              "      const label = document.createElement('label');\n",
              "      label.textContent = `Downloading \"${filename}\": `;\n",
              "      div.appendChild(label);\n",
              "      const progress = document.createElement('progress');\n",
              "      progress.max = size;\n",
              "      div.appendChild(progress);\n",
              "      document.body.appendChild(div);\n",
              "\n",
              "      const buffers = [];\n",
              "      let downloaded = 0;\n",
              "\n",
              "      const channel = await google.colab.kernel.comms.open(id);\n",
              "      // Send a message to notify the kernel that we're ready.\n",
              "      channel.send({})\n",
              "\n",
              "      for await (const message of channel.messages) {\n",
              "        // Send a message to notify the kernel that we're ready.\n",
              "        channel.send({})\n",
              "        if (message.buffers) {\n",
              "          for (const buffer of message.buffers) {\n",
              "            buffers.push(buffer);\n",
              "            downloaded += buffer.byteLength;\n",
              "            progress.value = downloaded;\n",
              "          }\n",
              "        }\n",
              "      }\n",
              "      const blob = new Blob(buffers, {type: 'application/binary'});\n",
              "      const a = document.createElement('a');\n",
              "      a.href = window.URL.createObjectURL(blob);\n",
              "      a.download = filename;\n",
              "      div.appendChild(a);\n",
              "      a.click();\n",
              "      div.remove();\n",
              "    }\n",
              "  "
            ]
          },
          "metadata": {}
        },
        {
          "output_type": "display_data",
          "data": {
            "text/plain": [
              "<IPython.core.display.Javascript object>"
            ],
            "application/javascript": [
              "download(\"download_fb7fa1f7-7a4f-4bad-a14f-ef1482830d9b\", \"covid19.csv\", 11453)"
            ]
          },
          "metadata": {}
        },
        {
          "output_type": "stream",
          "name": "stdout",
          "text": [
            "\n",
            "count for November: 237\n",
            "count for December: 237\n",
            "mean for November: 21118.24894514768\n",
            "mean for December: 22007.362869198314\n",
            "standard deviation for November: 76648.61299314238\n",
            "standard deviation for December: 79135.35105065332\n",
            "minimum for November: 0.0\n",
            "minimum for December: 0.0\n",
            "25th percentile for November: 114.0\n",
            "25th percentile for December: 122.0\n",
            "50th percentile for November: 1238.0\n",
            "50th percentile for December: 1327.0\n",
            "75th percentile for November: 8502.0\n",
            "75th percentile for December: 8836.0\n",
            "maximum for November: 743217.0\n",
            "maximum for December: 774868.0\n"
          ]
        }
      ]
    }
  ]
}