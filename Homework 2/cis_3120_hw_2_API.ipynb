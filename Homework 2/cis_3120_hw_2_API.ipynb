{
  "nbformat": 4,
  "nbformat_minor": 0,
  "metadata": {
    "colab": {
      "name": "cis 3120 - hw 2 - API.ipynb",
      "provenance": []
    },
    "kernelspec": {
      "name": "python3",
      "display_name": "Python 3"
    },
    "language_info": {
      "name": "python"
    }
  },
  "cells": [
    {
      "cell_type": "code",
      "execution_count": null,
      "metadata": {
        "id": "E8qDvxus5bGa"
      },
      "outputs": [],
      "source": [
        "#import libraries\n",
        "import requests\n",
        "import json\n",
        "import pandas as pd\n",
        "from google.colab import files"
      ]
    },
    {
      "cell_type": "code",
      "source": [
        "API_key = 'd782bd64d7bd7968444fc28b596ece25' #openweathermap's API key\n",
        "cities= ['Tokyo','Athens','Venice','Montreal','Paris','Dubai','Barcelona','Cairo','Havana','Shanghai'] #created a list with 10 cities\n",
        "\n",
        "names=[] #created an empty list for city names\n",
        "descriptions=[] #created an empty list for city weather descriptions\n",
        "min_temps=[] #created an empty list for minimum temperature of city\n",
        "max_temps=[] #created an empty list for maximum temperature of city\n",
        "humidities=[] #created an empty list for humidity of city\n",
        "feels=[] #created an empty list for temperature the city feels like\n",
        "\n",
        "for city_names in cities: #for looping through the cities list\n",
        "  url = f'https://api.openweathermap.org/data/2.5/weather?q={city_names}&appid={API_key}&units=imperial' #inserted the url of the API\n",
        " \n",
        "  #requested to get infromation from url\n",
        "  r = requests.get(url) \n",
        "  data=r.json() \n",
        " \n",
        "  name = data['name'] #called the city name from the data\n",
        "  description = data['weather'][0]['description'] #called the city's weather description from the data\n",
        "  min_temp = data['main']['temp_min'] #called the minimum temperature for the city from the data\n",
        "  max_temp = data['main']['temp_max'] #called the maximum temperature for the city form the data\n",
        "  humidity = data['main']['humidity'] #called the humidity for the city from the data\n",
        "  feel = data['main']['feels_like'] #called what the city's weather feels like from the data\n",
        "\n",
        "  #printed each piece of information\n",
        "  print(f'\\n{name}\\'s minimum temperature today is: {min_temp}')\n",
        "  print(f'{name}\\'s maximum temperature today is: {max_temp}')\n",
        "  print(f'{name}\\'s temperature today feels like: {feel}') \n",
        "  print(f'{name}\\'s humidity today is: {humidity}')\n",
        "  print(f'{name}\\'s description today is: {description}\\n')\n",
        "\n",
        "  names.append(name) #appended the \"name\" data to the empty list \"names\"\n",
        "  descriptions.append(description) #appended the \"description\" data to the empty list \"descriptions\"\n",
        "  min_temps.append(min_temp) #appended the \"min_temp\" data to the empty list \"min_temps\"\n",
        "  max_temps.append(max_temp) #appended the \"max_temp\" data to the empty list \"max_temps\"\n",
        "  humidities.append(humidity) #appended the \"humidity\" data to the empty list \"humidities\"\n",
        "  feels.append(feel) #appended the \"feel\" data to the empty list \"feels\""
      ],
      "metadata": {
        "colab": {
          "base_uri": "https://localhost:8080/"
        },
        "id": "cLpPVSX-pJrk",
        "outputId": "ee282eba-2300-4a98-fde1-01dc03c7ce3d"
      },
      "execution_count": 25,
      "outputs": [
        {
          "output_type": "stream",
          "name": "stdout",
          "text": [
            "\n",
            "Tokyo's minimum temperature today is: 60.42\n",
            "Tokyo's maximum temperature today is: 67.91\n",
            "Tokyo's temperature today feels like: 63.03\n",
            "Tokyo's humidity today is: 50\n",
            "Tokyo's description today is: broken clouds\n",
            "\n",
            "\n",
            "Athens's minimum temperature today is: 55\n",
            "Athens's maximum temperature today is: 67.12\n",
            "Athens's temperature today feels like: 60.53\n",
            "Athens's humidity today is: 49\n",
            "Athens's description today is: clear sky\n",
            "\n",
            "\n",
            "Venice's minimum temperature today is: 68.27\n",
            "Venice's maximum temperature today is: 73.99\n",
            "Venice's temperature today feels like: 72.91\n",
            "Venice's humidity today is: 87\n",
            "Venice's description today is: haze\n",
            "\n",
            "\n",
            "Montreal's minimum temperature today is: 40.51\n",
            "Montreal's maximum temperature today is: 44.31\n",
            "Montreal's temperature today feels like: 34.99\n",
            "Montreal's humidity today is: 85\n",
            "Montreal's description today is: light rain\n",
            "\n",
            "\n",
            "Paris's minimum temperature today is: 45\n",
            "Paris's maximum temperature today is: 51.58\n",
            "Paris's temperature today feels like: 44.98\n",
            "Paris's humidity today is: 86\n",
            "Paris's description today is: clear sky\n",
            "\n",
            "\n",
            "Dubai's minimum temperature today is: 86.29\n",
            "Dubai's maximum temperature today is: 91.65\n",
            "Dubai's temperature today feels like: 92.52\n",
            "Dubai's humidity today is: 51\n",
            "Dubai's description today is: clear sky\n",
            "\n",
            "\n",
            "Barcelona's minimum temperature today is: 56.77\n",
            "Barcelona's maximum temperature today is: 66.54\n",
            "Barcelona's temperature today feels like: 60.75\n",
            "Barcelona's humidity today is: 74\n",
            "Barcelona's description today is: clear sky\n",
            "\n",
            "\n",
            "Cairo's minimum temperature today is: 63.36\n",
            "Cairo's maximum temperature today is: 63.36\n",
            "Cairo's temperature today feels like: 63.01\n",
            "Cairo's humidity today is: 77\n",
            "Cairo's description today is: scattered clouds\n",
            "\n",
            "\n",
            "Havana's minimum temperature today is: 73.53\n",
            "Havana's maximum temperature today is: 73.83\n",
            "Havana's temperature today feels like: 75.61\n",
            "Havana's humidity today is: 100\n",
            "Havana's description today is: scattered clouds\n",
            "\n",
            "\n",
            "Shanghai's minimum temperature today is: 61.88\n",
            "Shanghai's maximum temperature today is: 62.87\n",
            "Shanghai's temperature today feels like: 60.46\n",
            "Shanghai's humidity today is: 43\n",
            "Shanghai's description today is: clear sky\n",
            "\n"
          ]
        }
      ]
    },
    {
      "cell_type": "code",
      "source": [
        "weather_df=pd.DataFrame() #create a dataframe for weather information\n",
        "weather_df['Cities']=names #added the city names to the dataframe\n",
        "weather_df['Minimum Temperature']=min_temps #added the city's minimum temperature to the dataframe\n",
        "weather_df['Maximum Temperature']=max_temps #added the city's maximum temperature to the dataframe\n",
        "weather_df['Feels Like']=feels #added the weather the city feels like to the dataframe\n",
        "weather_df['Humidity']=humidities #added the city's humidity to the dataframe\n",
        "weather_df['Description']=descriptions #added the city's weather description to the dataframe\n",
        "print(weather_df) #printed the dataframe\n",
        "weather_df.to_csv('weather.csv',index=False) #converted the dataframe to a csv file\n",
        "files.download('weather.csv') #downloaded the csv file"
      ],
      "metadata": {
        "colab": {
          "base_uri": "https://localhost:8080/",
          "height": 452
        },
        "id": "dzefs3R-673q",
        "outputId": "b94165b8-7d49-4671-a612-1c07d1e3b84f"
      },
      "execution_count": null,
      "outputs": [
        {
          "output_type": "stream",
          "name": "stdout",
          "text": [
            "      Cities  Minimum Temperature  Maximum Temperature  Feels Like  Humidity  \\\n",
            "0      Tokyo                58.62                61.84       57.90        61   \n",
            "1     Athens                49.60                59.38       54.23        57   \n",
            "2     Venice                70.99                75.99       75.74        80   \n",
            "3   Montreal                45.72                48.07       37.99        84   \n",
            "4      Paris                47.01                53.38       49.57        86   \n",
            "5      Dubai                77.29                82.33       82.33        47   \n",
            "6  Barcelona                55.83                65.91       61.12        71   \n",
            "7      Cairo                60.42                61.56       60.94        87   \n",
            "8     Havana                75.52                75.63       77.04        88   \n",
            "9   Shanghai                60.66                62.47       58.64        44   \n",
            "\n",
            "        Description  \n",
            "0     broken clouds  \n",
            "1         clear sky  \n",
            "2              haze  \n",
            "3   overcast clouds  \n",
            "4         clear sky  \n",
            "5         clear sky  \n",
            "6         clear sky  \n",
            "7  scattered clouds  \n",
            "8  scattered clouds  \n",
            "9         clear sky  \n"
          ]
        },
        {
          "output_type": "display_data",
          "data": {
            "text/plain": [
              "<IPython.core.display.Javascript object>"
            ],
            "application/javascript": [
              "\n",
              "    async function download(id, filename, size) {\n",
              "      if (!google.colab.kernel.accessAllowed) {\n",
              "        return;\n",
              "      }\n",
              "      const div = document.createElement('div');\n",
              "      const label = document.createElement('label');\n",
              "      label.textContent = `Downloading \"${filename}\": `;\n",
              "      div.appendChild(label);\n",
              "      const progress = document.createElement('progress');\n",
              "      progress.max = size;\n",
              "      div.appendChild(progress);\n",
              "      document.body.appendChild(div);\n",
              "\n",
              "      const buffers = [];\n",
              "      let downloaded = 0;\n",
              "\n",
              "      const channel = await google.colab.kernel.comms.open(id);\n",
              "      // Send a message to notify the kernel that we're ready.\n",
              "      channel.send({})\n",
              "\n",
              "      for await (const message of channel.messages) {\n",
              "        // Send a message to notify the kernel that we're ready.\n",
              "        channel.send({})\n",
              "        if (message.buffers) {\n",
              "          for (const buffer of message.buffers) {\n",
              "            buffers.push(buffer);\n",
              "            downloaded += buffer.byteLength;\n",
              "            progress.value = downloaded;\n",
              "          }\n",
              "        }\n",
              "      }\n",
              "      const blob = new Blob(buffers, {type: 'application/binary'});\n",
              "      const a = document.createElement('a');\n",
              "      a.href = window.URL.createObjectURL(blob);\n",
              "      a.download = filename;\n",
              "      div.appendChild(a);\n",
              "      a.click();\n",
              "      div.remove();\n",
              "    }\n",
              "  "
            ]
          },
          "metadata": {}
        },
        {
          "output_type": "display_data",
          "data": {
            "text/plain": [
              "<IPython.core.display.Javascript object>"
            ],
            "application/javascript": [
              "download(\"download_98af6566-3b16-4742-9f35-e568f77c82fd\", \"weather.csv\", 479)"
            ]
          },
          "metadata": {}
        }
      ]
    }
  ]
}